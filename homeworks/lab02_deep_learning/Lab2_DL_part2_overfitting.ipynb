{
 "cells": [
  {
   "cell_type": "markdown",
   "metadata": {
    "id": "NFmOh482SyEF"
   },
   "source": [
    "## Lab 2\n",
    "### Part 2: Dealing with overfitting"
   ]
  },
  {
   "cell_type": "markdown",
   "metadata": {
    "id": "AjzAuO3oSvsI"
   },
   "source": [
    "Today we work with [Fashion-MNIST dataset](https://github.com/zalandoresearch/fashion-mnist) (*hint: it is available in `torchvision`*).\n",
    "\n",
    "Your goal for today:\n",
    "1. Train a FC (fully-connected) network that achieves >= 0.885 test accuracy.\n",
    "2. Cause considerable overfitting by modifying the network (e.g. increasing the number of network parameters and/or layers) and demonstrate in in the appropriate way (e.g. plot loss and accurasy on train and validation set w.r.t. network complexity).\n",
    "3. Try to deal with overfitting (at least partially) by using regularization techniques (Dropout/Batchnorm/...) and demonstrate the results.\n",
    "\n",
    "__Please, write a small report describing your ideas, tries and achieved results in the end of this file.__\n",
    "\n",
    "*Note*: Tasks 2 and 3 are interrelated, in task 3 your goal is to make the network from task 2 less prone to overfitting. Task 1 is independent from 2 and 3.\n",
    "\n",
    "*Note 2*: We recomment to use Google Colab or other machine with GPU acceleration."
   ]
  },
  {
   "cell_type": "code",
   "execution_count": 1,
   "metadata": {
    "id": "_KBld6VOSwhW"
   },
   "outputs": [],
   "source": [
    "import torch\n",
    "import torch.nn as nn\n",
    "import torchvision\n",
    "import torchvision.transforms as transforms\n",
    "import torchsummary\n",
    "from IPython.display import clear_output\n",
    "from matplotlib import pyplot as plt\n",
    "from matplotlib.pyplot import figure\n",
    "import numpy as np\n",
    "import os\n",
    "\n",
    "\n",
    "device = 'cuda:0' if torch.cuda.is_available() else 'cpu'"
   ]
  },
  {
   "cell_type": "code",
   "execution_count": 2,
   "metadata": {
    "colab": {
     "base_uri": "https://localhost:8080/"
    },
    "id": "EdLOG0XqS_g5",
    "outputId": "cb9b8615-a16a-4788-cefa-429fab086253"
   },
   "outputs": [
    {
     "name": "stdout",
     "output_type": "stream",
     "text": [
      "Directory fmnist is created!\n"
     ]
    }
   ],
   "source": [
    "# Technical function\n",
    "def mkdir(path):\n",
    "    if not os.path.exists(root_path):\n",
    "        os.mkdir(root_path)\n",
    "        print('Directory', path, 'is created!')\n",
    "    else:\n",
    "        print('Directory', path, 'already exists!')\n",
    "        \n",
    "root_path = 'fmnist'\n",
    "mkdir(root_path)"
   ]
  },
  {
   "cell_type": "code",
   "execution_count": 4,
   "metadata": {
    "colab": {
     "base_uri": "https://localhost:8080/",
     "height": 327,
     "referenced_widgets": [
      "a27fc1c3fbb7433c86b4b1f1df9026cb",
      "ce3bf61ebd5545ff8d71cf8634108ebc",
      "02e7dffc98e74220a265eb9458798b5a",
      "a9e06abe83464a24b21e47a0cb6a0d5a",
      "90fc74bfb8404d618b9729c56f6de939",
      "3252d5cb09504c5e8ee14869d9a33f1e",
      "82e69639e7a147e1af1cd426fb24cf28",
      "22767bb99fbf4929adf389568d369ce6",
      "b7b14f1230ba44988796cf4aeb662ecb",
      "9d307dbab9d541c58d1de8f227872d0f",
      "f80229b4eb2c48fb9fd68ea8e46e5af8"
     ]
    },
    "id": "qt6LE7XaTDT9",
    "outputId": "f2b2d909-1df5-4956-ed46-513b9503306a"
   },
   "outputs": [
    {
     "name": "stdout",
     "output_type": "stream",
     "text": [
      "Downloading http://fashion-mnist.s3-website.eu-central-1.amazonaws.com/train-images-idx3-ubyte.gz\n",
      "Using downloaded and verified file: fmnist/FashionMNIST/raw/train-images-idx3-ubyte.gz\n",
      "Extracting fmnist/FashionMNIST/raw/train-images-idx3-ubyte.gz to fmnist/FashionMNIST/raw\n",
      "\n",
      "Downloading http://fashion-mnist.s3-website.eu-central-1.amazonaws.com/train-labels-idx1-ubyte.gz\n",
      "Using downloaded and verified file: fmnist/FashionMNIST/raw/train-labels-idx1-ubyte.gz\n",
      "Extracting fmnist/FashionMNIST/raw/train-labels-idx1-ubyte.gz to fmnist/FashionMNIST/raw\n",
      "\n",
      "Downloading http://fashion-mnist.s3-website.eu-central-1.amazonaws.com/t10k-images-idx3-ubyte.gz\n",
      "Using downloaded and verified file: fmnist/FashionMNIST/raw/t10k-images-idx3-ubyte.gz\n",
      "Extracting fmnist/FashionMNIST/raw/t10k-images-idx3-ubyte.gz to fmnist/FashionMNIST/raw\n",
      "\n",
      "Downloading http://fashion-mnist.s3-website.eu-central-1.amazonaws.com/t10k-labels-idx1-ubyte.gz\n",
      "Downloading http://fashion-mnist.s3-website.eu-central-1.amazonaws.com/t10k-labels-idx1-ubyte.gz to fmnist/FashionMNIST/raw/t10k-labels-idx1-ubyte.gz\n"
     ]
    },
    {
     "data": {
      "application/vnd.jupyter.widget-view+json": {
       "model_id": "a27fc1c3fbb7433c86b4b1f1df9026cb",
       "version_major": 2,
       "version_minor": 0
      },
      "text/plain": [
       "  0%|          | 0/5148 [00:00<?, ?it/s]"
      ]
     },
     "metadata": {},
     "output_type": "display_data"
    },
    {
     "name": "stdout",
     "output_type": "stream",
     "text": [
      "Extracting fmnist/FashionMNIST/raw/t10k-labels-idx1-ubyte.gz to fmnist/FashionMNIST/raw\n",
      "\n"
     ]
    }
   ],
   "source": [
    "download = True\n",
    "train_transform = transforms.ToTensor()\n",
    "test_transform = transforms.ToTensor()\n",
    "transforms.Compose((transforms.ToTensor()))\n",
    "\n",
    "\n",
    "fmnist_dataset_train = torchvision.datasets.FashionMNIST(root_path, \n",
    "                                                        train=True, \n",
    "                                                        transform=train_transform,\n",
    "                                                        target_transform=None,\n",
    "                                                        download=download)\n",
    "fmnist_dataset_test = torchvision.datasets.FashionMNIST(root_path, \n",
    "                                                       train=False, \n",
    "                                                       transform=test_transform,\n",
    "                                                       target_transform=None,\n",
    "                                                       download=download)"
   ]
  },
  {
   "cell_type": "code",
   "execution_count": 5,
   "metadata": {
    "id": "71YP0SPwTIxD"
   },
   "outputs": [],
   "source": [
    "train_loader = torch.utils.data.DataLoader(fmnist_dataset_train, \n",
    "                                           batch_size=128,\n",
    "                                           shuffle=True,\n",
    "                                           num_workers=2)\n",
    "test_loader = torch.utils.data.DataLoader(fmnist_dataset_test,\n",
    "                                          batch_size=256,\n",
    "                                          shuffle=False,\n",
    "                                          num_workers=2)"
   ]
  },
  {
   "cell_type": "code",
   "execution_count": 6,
   "metadata": {
    "colab": {
     "base_uri": "https://localhost:8080/"
    },
    "id": "v_YFmF7NTWrQ",
    "outputId": "9b1d03ae-2cac-48d5-cab6-31c293151178"
   },
   "outputs": [
    {
     "data": {
      "text/plain": [
       "10000"
      ]
     },
     "execution_count": 6,
     "metadata": {},
     "output_type": "execute_result"
    }
   ],
   "source": [
    "len(fmnist_dataset_test)"
   ]
  },
  {
   "cell_type": "code",
   "execution_count": 7,
   "metadata": {
    "colab": {
     "base_uri": "https://localhost:8080/"
    },
    "id": "aHca15bOTY4B",
    "outputId": "06e93f06-8716-463e-bced-ab1d74dbdd00"
   },
   "outputs": [
    {
     "name": "stdout",
     "output_type": "stream",
     "text": [
      "torch.Size([128, 1, 28, 28])\n",
      "torch.Size([128])\n",
      "128\n"
     ]
    }
   ],
   "source": [
    "for img, label in train_loader:\n",
    "    print(img.shape)\n",
    "#     print(img)\n",
    "    print(label.shape)\n",
    "    print(label.size(0))\n",
    "    break"
   ]
  },
  {
   "cell_type": "markdown",
   "metadata": {
    "id": "b6OOOffHTfX5"
   },
   "source": [
    "### Task 1\n",
    "Train a network that achieves $\\geq 0.885$ test accuracy. It's fine to use only Linear (`nn.Linear`) layers and activations/dropout/batchnorm. Convolutional layers might be a great use, but we will meet them a bit later."
   ]
  },
  {
   "cell_type": "code",
   "execution_count": 16,
   "metadata": {
    "id": "ftpkTjxlTcFx"
   },
   "outputs": [],
   "source": [
    "class TinyNeuralNetwork(nn.Module):\n",
    "    def __init__(self, input_shape=28*28, num_classes=10, input_channels=1):\n",
    "        super(self.__class__, self).__init__()\n",
    "        self.model = nn.Sequential(\n",
    "            nn.Flatten(), # This layer converts image into a vector to use Linear layers afterwards\n",
    "            # Your network structure comes here\n",
    "            nn.Linear(input_shape, input_shape * 3),\n",
    "            # nn.BatchNorm1d(input_shape * 3),\n",
    "            nn.ReLU(),\n",
    "            nn.Linear(input_shape * 3, input_shape * 3),\n",
    "            nn.Dropout(p=0.5),\n",
    "            nn.ReLU(),\n",
    "            nn.Linear(input_shape * 3, input_shape),\n",
    "            nn.BatchNorm1d(input_shape),\n",
    "            nn.ReLU(),\n",
    "            nn.Linear(input_shape, num_classes),\n",
    "        )\n",
    "        \n",
    "    def forward(self, inp):       \n",
    "        out = self.model(inp)\n",
    "        return out"
   ]
  },
  {
   "cell_type": "code",
   "execution_count": 17,
   "metadata": {
    "colab": {
     "base_uri": "https://localhost:8080/"
    },
    "id": "EOa40k5kAmMC",
    "outputId": "150ffe6f-8908-4432-f695-f3197f18cdd0"
   },
   "outputs": [
    {
     "name": "stdout",
     "output_type": "stream",
     "text": [
      "----------------------------------------------------------------\n",
      "        Layer (type)               Output Shape         Param #\n",
      "================================================================\n",
      "           Flatten-1                  [-1, 784]               0\n",
      "            Linear-2                 [-1, 2352]       1,846,320\n",
      "              ReLU-3                 [-1, 2352]               0\n",
      "            Linear-4                 [-1, 2352]       5,534,256\n",
      "           Dropout-5                 [-1, 2352]               0\n",
      "              ReLU-6                 [-1, 2352]               0\n",
      "            Linear-7                  [-1, 784]       1,844,752\n",
      "       BatchNorm1d-8                  [-1, 784]           1,568\n",
      "              ReLU-9                  [-1, 784]               0\n",
      "           Linear-10                   [-1, 10]           7,850\n",
      "================================================================\n",
      "Total params: 9,234,746\n",
      "Trainable params: 9,234,746\n",
      "Non-trainable params: 0\n",
      "----------------------------------------------------------------\n",
      "Input size (MB): 0.00\n",
      "Forward/backward pass size (MB): 0.11\n",
      "Params size (MB): 35.23\n",
      "Estimated Total Size (MB): 35.34\n",
      "----------------------------------------------------------------\n"
     ]
    }
   ],
   "source": [
    "torchsummary.summary(TinyNeuralNetwork().to(device), (28*28,))"
   ]
  },
  {
   "cell_type": "markdown",
   "metadata": {
    "id": "544PGKEnjPr5"
   },
   "source": [
    "Your experiments come here:"
   ]
  },
  {
   "cell_type": "code",
   "execution_count": 18,
   "metadata": {
    "id": "X9EY7sSrBnUy"
   },
   "outputs": [],
   "source": [
    "from IPython import display\n",
    "\n",
    "from sklearn.metrics import accuracy_score"
   ]
  },
  {
   "cell_type": "code",
   "execution_count": 19,
   "metadata": {
    "colab": {
     "base_uri": "https://localhost:8080/",
     "height": 530
    },
    "id": "i3POFj90Ti-6",
    "outputId": "fa558e84-44ce-4b0a-fe93-b4f766eefa19"
   },
   "outputs": [
    {
     "data": {
      "image/png": "[encoded data removed]",
      "text/plain": [
       "<Figure size 1152x576 with 2 Axes>"
      ]
     },
     "metadata": {
      "needs_background": "light"
     },
     "output_type": "display_data"
    },
    {
     "name": "stdout",
     "output_type": "stream",
     "text": [
      "Test accuracy: 0.898\n"
     ]
    }
   ],
   "source": [
    "model = TinyNeuralNetwork().to(device)\n",
    "opt = torch.optim.Adam(model.parameters(), lr=1e-4) # YOUR CODE HERE\n",
    "loss_func = nn.CrossEntropyLoss() # YOUR CODE HERE\n",
    "\n",
    "# Your experiments, training and validation loops here\n",
    "train_loss_history = []\n",
    "test_loss_history = []\n",
    "test_accuracy_history = []\n",
    "n_epoch = 10\n",
    "\n",
    "for i in range(n_epoch):\n",
    "    # Training loop\n",
    "    model.train()\n",
    "    train_loss = 0\n",
    "    for x_batch, y_batch in train_loader:\n",
    "        \n",
    "        opt.zero_grad()\n",
    "        \n",
    "        predictions = model(x_batch.to(device)).cpu()\n",
    "        loss = loss_func(predictions, y_batch)\n",
    "        \n",
    "        loss.backward()      \n",
    "        \n",
    "        train_loss += loss.item()\n",
    "\n",
    "        opt.step()\n",
    "    train_loss_history.append(train_loss / len(train_loader))\n",
    "\n",
    "    # Validation loop\n",
    "    test_accuracy = 0\n",
    "    test_loss = 0\n",
    "    model.eval()\n",
    "    for x_batch, y_batch in test_loader:\n",
    "        with torch.no_grad():\n",
    "            predictions = model(x_batch.to(device)).cpu()\n",
    "            \n",
    "        loss = loss_func(predictions, y_batch)\n",
    "        \n",
    "        test_loss += loss.item()\n",
    "        test_accuracy += accuracy_score(y_batch, np.argmax(predictions, axis=1))\n",
    "    test_loss_history.append(test_loss / len(test_loader))\n",
    "    test_accuracy_history.append(test_accuracy / len(test_loader))\n",
    "\n",
    "    # Visualize\n",
    "    if i > 0:\n",
    "        display.clear_output(wait=True)\n",
    "        plt.figure(1, figsize=(16, 8))\n",
    "        \n",
    "        plt.subplot(121)\n",
    "        plt.title(\"Loss\")\n",
    "        plt.xlabel(\"#iteration\")\n",
    "        plt.ylabel(\"loss\")\n",
    "        plt.plot(train_loss_history, '-bo', label='training loss')\n",
    "        plt.plot(test_loss_history, '-go', label='test loss')\n",
    "        plt.legend()\n",
    "\n",
    "        plt.subplot(122)\n",
    "        plt.title(\"Accuracy\")\n",
    "        plt.xlabel(\"epoch\")\n",
    "        plt.ylabel(\"accuracy\")\n",
    "        plt.plot(test_accuracy_history, '-go', label='test accuracy')\n",
    "        plt.legend()\n",
    "        plt.show()  \n",
    "    print(f\"Test accuracy: {test_accuracy / len(test_loader):.3}\")"
   ]
  },
  {
   "cell_type": "markdown",
   "metadata": {
    "id": "L7ISqkjmCPB1"
   },
   "source": [
    "### Task 2: Overfit it.\n",
    "Build a network that will overfit to this dataset. Demonstrate the overfitting in the appropriate way (e.g. plot loss and accurasy on train and test set w.r.t. network complexity).\n",
    "\n",
    "*Note:* you also might decrease the size of `train` dataset to enforce the overfitting and speed up the computations."
   ]
  },
  {
   "cell_type": "code",
   "execution_count": 20,
   "metadata": {
    "id": "H12uAWiGBwJx"
   },
   "outputs": [],
   "source": [
    "class OverfittingNeuralNetwork(nn.Module):\n",
    "    def __init__(self, input_shape=28*28, num_classes=10, input_channels=1):\n",
    "        super(self.__class__, self).__init__()\n",
    "        self.model = nn.Sequential(\n",
    "            nn.Flatten(), # This layer converts image into a vector to use Linear layers afterwards\n",
    "            # Your network structure comes here\n",
    "            nn.Linear(input_shape, input_shape * 2),\n",
    "            nn.ReLU(),\n",
    "            nn.Linear(input_shape * 2, input_shape),\n",
    "            nn.ReLU(),\n",
    "            nn.Linear(input_shape, num_classes),\n",
    "        )\n",
    "        \n",
    "    def forward(self, inp):       \n",
    "        out = self.model(inp)\n",
    "        return out"
   ]
  },
  {
   "cell_type": "code",
   "execution_count": 21,
   "metadata": {
    "colab": {
     "base_uri": "https://localhost:8080/"
    },
    "id": "JgXAKCpvCwqH",
    "outputId": "c8415aae-e39e-4b9d-e801-2b92e0c7bd55"
   },
   "outputs": [
    {
     "name": "stdout",
     "output_type": "stream",
     "text": [
      "----------------------------------------------------------------\n",
      "        Layer (type)               Output Shape         Param #\n",
      "================================================================\n",
      "           Flatten-1                  [-1, 784]               0\n",
      "            Linear-2                 [-1, 1568]       1,230,880\n",
      "              ReLU-3                 [-1, 1568]               0\n",
      "            Linear-4                  [-1, 784]       1,230,096\n",
      "              ReLU-5                  [-1, 784]               0\n",
      "            Linear-6                   [-1, 10]           7,850\n",
      "================================================================\n",
      "Total params: 2,468,826\n",
      "Trainable params: 2,468,826\n",
      "Non-trainable params: 0\n",
      "----------------------------------------------------------------\n",
      "Input size (MB): 0.00\n",
      "Forward/backward pass size (MB): 0.04\n",
      "Params size (MB): 9.42\n",
      "Estimated Total Size (MB): 9.46\n",
      "----------------------------------------------------------------\n"
     ]
    }
   ],
   "source": [
    "torchsummary.summary(OverfittingNeuralNetwork().to(device), (28*28,))"
   ]
  },
  {
   "cell_type": "code",
   "execution_count": 22,
   "metadata": {
    "colab": {
     "base_uri": "https://localhost:8080/",
     "height": 530
    },
    "id": "JfdeKsliAmMM",
    "outputId": "cbbbf26d-dc44-42ab-f880-9bca09e6c470"
   },
   "outputs": [
    {
     "data": {
      "image/png": "[encoded data removed]",
      "text/plain": [
       "<Figure size 1152x576 with 2 Axes>"
      ]
     },
     "metadata": {
      "needs_background": "light"
     },
     "output_type": "display_data"
    },
    {
     "name": "stdout",
     "output_type": "stream",
     "text": [
      "Test accuracy: 0.903\n"
     ]
    }
   ],
   "source": [
    "model = OverfittingNeuralNetwork().to(device)\n",
    "opt = torch.optim.Adam(model.parameters()) # YOUR CODE HERE\n",
    "loss_func = nn.CrossEntropyLoss() # YOUR CODE HERE\n",
    "\n",
    "# Your experiments, come here\n",
    "train_loss_history = []\n",
    "test_loss_history = []\n",
    "test_accuracy_history = []\n",
    "n_epoch = 25\n",
    "\n",
    "for i in range(n_epoch):\n",
    "    # Training loop\n",
    "    model.train()\n",
    "    train_loss = 0\n",
    "    for x_batch, y_batch in train_loader:\n",
    "        \n",
    "        opt.zero_grad()\n",
    "        \n",
    "        predictions = model(x_batch.to(device)).cpu()\n",
    "        loss = loss_func(predictions, y_batch)\n",
    "        \n",
    "        loss.backward()      \n",
    "        \n",
    "        train_loss += loss.item()\n",
    "\n",
    "        opt.step()\n",
    "    train_loss_history.append(train_loss / len(train_loader))\n",
    "\n",
    "    # Validation loop\n",
    "    test_accuracy = 0\n",
    "    test_loss = 0\n",
    "    model.eval()\n",
    "    for x_batch, y_batch in test_loader:\n",
    "        with torch.no_grad():\n",
    "            predictions = model(x_batch.to(device)).cpu()\n",
    "            \n",
    "        loss = loss_func(predictions, y_batch)\n",
    "        \n",
    "        test_loss += loss.item()\n",
    "        test_accuracy += accuracy_score(y_batch, np.argmax(predictions, axis=1))\n",
    "    test_loss_history.append(test_loss / len(test_loader))\n",
    "    test_accuracy_history.append(test_accuracy / len(test_loader))\n",
    "\n",
    "    # Visualize\n",
    "    if i > 0:\n",
    "        display.clear_output(wait=True)\n",
    "        plt.figure(1, figsize=(16, 8))\n",
    "        \n",
    "        plt.subplot(121)\n",
    "        plt.title(\"Loss\")\n",
    "        plt.xlabel(\"#iteration\")\n",
    "        plt.ylabel(\"loss\")\n",
    "        plt.plot(train_loss_history, '-bo', label='training loss')\n",
    "        plt.plot(test_loss_history, '-go', label='test loss')\n",
    "        plt.legend()\n",
    "\n",
    "        plt.subplot(122)\n",
    "        plt.title(\"Accuracy\")\n",
    "        plt.xlabel(\"epoch\")\n",
    "        plt.ylabel(\"accuracy\")\n",
    "        plt.plot(test_accuracy_history, '-go', label='test accuracy')\n",
    "        plt.legend()\n",
    "        plt.show()  \n",
    "    print(f\"Test accuracy: {test_accuracy / len(test_loader):.3}\")"
   ]
  },
  {
   "cell_type": "markdown",
   "metadata": {
    "id": "y5dp6yw4AmMO"
   },
   "source": [
    "### Task 3: Fix it.\n",
    "Fix the overfitted network from the previous step (at least partially) by using regularization techniques (Dropout/Batchnorm/...) and demonstrate the results. "
   ]
  },
  {
   "cell_type": "code",
   "execution_count": 23,
   "metadata": {
    "id": "fLMFVy8tAmMP"
   },
   "outputs": [],
   "source": [
    "class FixedNeuralNetwork(nn.Module):\n",
    "    def __init__(self, input_shape=28*28, num_classes=10, input_channels=1):\n",
    "        super(self.__class__, self).__init__()\n",
    "        self.model = nn.Sequential(\n",
    "            nn.Flatten(), # This layer converts image into a vector to use Linear layers afterwards\n",
    "            # Your network structure comes here\n",
    "            nn.Linear(input_shape, input_shape * 2),\n",
    "            nn.BatchNorm1d(input_shape * 2),\n",
    "            nn.Dropout(p=0.5),\n",
    "            nn.ReLU(),\n",
    "            nn.Linear(input_shape * 2, input_shape),\n",
    "            nn.BatchNorm1d(input_shape),\n",
    "            nn.Dropout(p=0.3),\n",
    "            nn.ReLU(),\n",
    "            nn.Linear(input_shape, num_classes)\n",
    "        )\n",
    "        \n",
    "    def forward(self, inp):       \n",
    "        out = self.model(inp)\n",
    "        return out"
   ]
  },
  {
   "cell_type": "code",
   "execution_count": 24,
   "metadata": {
    "colab": {
     "base_uri": "https://localhost:8080/"
    },
    "id": "1bCa_EmZAmMS",
    "outputId": "e1fb5738-e355-4c9b-aafd-c7b4d24403e9"
   },
   "outputs": [
    {
     "name": "stdout",
     "output_type": "stream",
     "text": [
      "----------------------------------------------------------------\n",
      "        Layer (type)               Output Shape         Param #\n",
      "================================================================\n",
      "           Flatten-1                  [-1, 784]               0\n",
      "            Linear-2                 [-1, 1568]       1,230,880\n",
      "       BatchNorm1d-3                 [-1, 1568]           3,136\n",
      "           Dropout-4                 [-1, 1568]               0\n",
      "              ReLU-5                 [-1, 1568]               0\n",
      "            Linear-6                  [-1, 784]       1,230,096\n",
      "       BatchNorm1d-7                  [-1, 784]           1,568\n",
      "           Dropout-8                  [-1, 784]               0\n",
      "              ReLU-9                  [-1, 784]               0\n",
      "           Linear-10                   [-1, 10]           7,850\n",
      "================================================================\n",
      "Total params: 2,473,530\n",
      "Trainable params: 2,473,530\n",
      "Non-trainable params: 0\n",
      "----------------------------------------------------------------\n",
      "Input size (MB): 0.00\n",
      "Forward/backward pass size (MB): 0.08\n",
      "Params size (MB): 9.44\n",
      "Estimated Total Size (MB): 9.52\n",
      "----------------------------------------------------------------\n"
     ]
    }
   ],
   "source": [
    "torchsummary.summary(FixedNeuralNetwork().to(device), (28*28,))"
   ]
  },
  {
   "cell_type": "code",
   "execution_count": 25,
   "metadata": {
    "colab": {
     "base_uri": "https://localhost:8080/",
     "height": 530
    },
    "id": "VKDly_JjAmMU",
    "outputId": "8a54eb61-c14c-4e9d-9751-e46e026e479a"
   },
   "outputs": [
    {
     "data": {
      "image/png": "[encoded data removed]",
      "text/plain": [
       "<Figure size 1152x576 with 2 Axes>"
      ]
     },
     "metadata": {
      "needs_background": "light"
     },
     "output_type": "display_data"
    },
    {
     "name": "stdout",
     "output_type": "stream",
     "text": [
      "Test accuracy: 0.901\n"
     ]
    }
   ],
   "source": [
    "model = FixedNeuralNetwork().to(device)\n",
    "opt = torch.optim.Adam(model.parameters()) # YOUR CODE HERE\n",
    "loss_func = nn.CrossEntropyLoss() # YOUR CODE HERE\n",
    "\n",
    "# Your experiments, come here\n",
    "train_loss_history = []\n",
    "test_loss_history = []\n",
    "test_accuracy_history = []\n",
    "n_epoch = 25\n",
    "\n",
    "for i in range(n_epoch):\n",
    "    # Training loop\n",
    "    model.train()\n",
    "    train_loss = 0\n",
    "    for x_batch, y_batch in train_loader:\n",
    "        \n",
    "        opt.zero_grad()\n",
    "        \n",
    "        predictions = model(x_batch.to(device)).cpu()\n",
    "        loss = loss_func(predictions, y_batch)\n",
    "        \n",
    "        loss.backward()      \n",
    "        \n",
    "        train_loss += loss.item()\n",
    "\n",
    "        opt.step()\n",
    "    train_loss_history.append(train_loss / len(train_loader))\n",
    "\n",
    "    # Validation loop\n",
    "    test_accuracy = 0\n",
    "    test_loss = 0\n",
    "    model.eval()\n",
    "    for x_batch, y_batch in test_loader:\n",
    "        with torch.no_grad():\n",
    "            predictions = model(x_batch.to(device)).cpu()\n",
    "            \n",
    "        loss = loss_func(predictions, y_batch)\n",
    "        \n",
    "        test_loss += loss.item()\n",
    "        test_accuracy += accuracy_score(y_batch, np.argmax(predictions, axis=1))\n",
    "    test_loss_history.append(test_loss / len(test_loader))\n",
    "    test_accuracy_history.append(test_accuracy / len(test_loader))\n",
    "\n",
    "    # Visualize\n",
    "    if i > 0:\n",
    "        display.clear_output(wait=True)\n",
    "        plt.figure(1, figsize=(16, 8))\n",
    "        \n",
    "        plt.subplot(121)\n",
    "        plt.title(\"Loss\")\n",
    "        plt.xlabel(\"#iteration\")\n",
    "        plt.ylabel(\"loss\")\n",
    "        plt.plot(train_loss_history, '-bo', label='training loss')\n",
    "        plt.plot(test_loss_history, '-go', label='test loss')\n",
    "        plt.legend()\n",
    "\n",
    "        plt.subplot(122)\n",
    "        plt.title(\"Accuracy\")\n",
    "        plt.xlabel(\"epoch\")\n",
    "        plt.ylabel(\"accuracy\")\n",
    "        plt.plot(test_accuracy_history, '-go', label='test accuracy')\n",
    "        plt.legend()\n",
    "        plt.show()  \n",
    "    print(f\"Test accuracy: {test_accuracy / len(test_loader):.3}\")"
   ]
  },
  {
   "cell_type": "markdown",
   "metadata": {
    "id": "dMui_uLJ7G0d"
   },
   "source": [
    "### Conclusions:\n",
    "_Write down small report with your conclusions and your ideas._"
   ]
  },
  {
   "cell_type": "markdown",
   "metadata": {
    "id": "UHnDP0R409y3"
   },
   "source": [
    "Как можно заметить, графика изменения accuracy не достаточно, чтобы увидеть переобучение модели. Loss на валидации начинает расти, но accuracy все еще может увеличиваться. Во 2 задании я решил взять простую сеть с двумя скрытыми слоями, увеличив lr (по сравнению с 1 задачей) и взяв побольше эпох, удалось переобучить модель. Далее, не меняя параметры (lr и количество эпох) и добавив лишь Dropout и BatchNormalization слои, пытался бороться с переобучением. Как видно на графике выше удалось отсрочить начало переобучения примерно на 10 эпох, при этом модель достигает меньшей ошибки на валидации.  "
   ]
  },
  {
   "cell_type": "code",
   "execution_count": null,
   "metadata": {
    "id": "klM5GXCn3JSV"
   },
   "outputs": [],
   "source": []
  }
 ],
 "metadata": {
  "accelerator": "GPU",
  "colab": {
   "collapsed_sections": [],
   "name": "Lab2_DL_part2_overfitting.ipynb",
   "provenance": []
  },
  "kernelspec": {
   "display_name": "Python 3",
   "language": "python",
   "name": "python3"
  },
  "language_info": {
   "codemirror_mode": {
    "name": "ipython",
    "version": 3
   },
   "file_extension": ".py",
   "mimetype": "text/x-python",
   "name": "python",
   "nbconvert_exporter": "python",
   "pygments_lexer": "ipython3",
   "version": "3.7.10"
  },
  "widgets": {
   "application/vnd.jupyter.widget-state+json": {
    "02e7dffc98e74220a265eb9458798b5a": {
     "model_module": "@jupyter-widgets/controls",
     "model_module_version": "1.5.0",
     "model_name": "HTMLModel",
     "state": {
      "_dom_classes": [],
      "_model_module": "@jupyter-widgets/controls",
      "_model_module_version": "1.5.0",
      "_model_name": "HTMLModel",
      "_view_count": null,
      "_view_module": "@jupyter-widgets/controls",
      "_view_module_version": "1.5.0",
      "_view_name": "HTMLView",
      "description": "",
      "description_tooltip": null,
      "layout": "IPY_MODEL_82e69639e7a147e1af1cd426fb24cf28",
      "placeholder": "​",
      "style": "IPY_MODEL_3252d5cb09504c5e8ee14869d9a33f1e",
      "value": ""
     }
    },
    "22767bb99fbf4929adf389568d369ce6": {
     "model_module": "@jupyter-widgets/controls",
     "model_module_version": "1.5.0",
     "model_name": "ProgressStyleModel",
     "state": {
      "_model_module": "@jupyter-widgets/controls",
      "_model_module_version": "1.5.0",
      "_model_name": "ProgressStyleModel",
      "_view_count": null,
      "_view_module": "@jupyter-widgets/base",
      "_view_module_version": "1.2.0",
      "_view_name": "StyleView",
      "bar_color": null,
      "description_width": ""
     }
    },
    "3252d5cb09504c5e8ee14869d9a33f1e": {
     "model_module": "@jupyter-widgets/controls",
     "model_module_version": "1.5.0",
     "model_name": "DescriptionStyleModel",
     "state": {
      "_model_module": "@jupyter-widgets/controls",
      "_model_module_version": "1.5.0",
      "_model_name": "DescriptionStyleModel",
      "_view_count": null,
      "_view_module": "@jupyter-widgets/base",
      "_view_module_version": "1.2.0",
      "_view_name": "StyleView",
      "description_width": ""
     }
    },
    "82e69639e7a147e1af1cd426fb24cf28": {
     "model_module": "@jupyter-widgets/base",
     "model_module_version": "1.2.0",
     "model_name": "LayoutModel",
     "state": {
      "_model_module": "@jupyter-widgets/base",
      "_model_module_version": "1.2.0",
      "_model_name": "LayoutModel",
      "_view_count": null,
      "_view_module": "@jupyter-widgets/base",
      "_view_module_version": "1.2.0",
      "_view_name": "LayoutView",
      "align_content": null,
      "align_items": null,
      "align_self": null,
      "border": null,
      "bottom": null,
      "display": null,
      "flex": null,
      "flex_flow": null,
      "grid_area": null,
      "grid_auto_columns": null,
      "grid_auto_flow": null,
      "grid_auto_rows": null,
      "grid_column": null,
      "grid_gap": null,
      "grid_row": null,
      "grid_template_areas": null,
      "grid_template_columns": null,
      "grid_template_rows": null,
      "height": null,
      "justify_content": null,
      "justify_items": null,
      "left": null,
      "margin": null,
      "max_height": null,
      "max_width": null,
      "min_height": null,
      "min_width": null,
      "object_fit": null,
      "object_position": null,
      "order": null,
      "overflow": null,
      "overflow_x": null,
      "overflow_y": null,
      "padding": null,
      "right": null,
      "top": null,
      "visibility": null,
      "width": null
     }
    },
    "90fc74bfb8404d618b9729c56f6de939": {
     "model_module": "@jupyter-widgets/controls",
     "model_module_version": "1.5.0",
     "model_name": "HTMLModel",
     "state": {
      "_dom_classes": [],
      "_model_module": "@jupyter-widgets/controls",
      "_model_module_version": "1.5.0",
      "_model_name": "HTMLModel",
      "_view_count": null,
      "_view_module": "@jupyter-widgets/controls",
      "_view_module_version": "1.5.0",
      "_view_name": "HTMLView",
      "description": "",
      "description_tooltip": null,
      "layout": "IPY_MODEL_f80229b4eb2c48fb9fd68ea8e46e5af8",
      "placeholder": "​",
      "style": "IPY_MODEL_9d307dbab9d541c58d1de8f227872d0f",
      "value": " 6144/? [00:00&lt;00:00, 163089.70it/s]"
     }
    },
    "9d307dbab9d541c58d1de8f227872d0f": {
     "model_module": "@jupyter-widgets/controls",
     "model_module_version": "1.5.0",
     "model_name": "DescriptionStyleModel",
     "state": {
      "_model_module": "@jupyter-widgets/controls",
      "_model_module_version": "1.5.0",
      "_model_name": "DescriptionStyleModel",
      "_view_count": null,
      "_view_module": "@jupyter-widgets/base",
      "_view_module_version": "1.2.0",
      "_view_name": "StyleView",
      "description_width": ""
     }
    },
    "a27fc1c3fbb7433c86b4b1f1df9026cb": {
     "model_module": "@jupyter-widgets/controls",
     "model_module_version": "1.5.0",
     "model_name": "HBoxModel",
     "state": {
      "_dom_classes": [],
      "_model_module": "@jupyter-widgets/controls",
      "_model_module_version": "1.5.0",
      "_model_name": "HBoxModel",
      "_view_count": null,
      "_view_module": "@jupyter-widgets/controls",
      "_view_module_version": "1.5.0",
      "_view_name": "HBoxView",
      "box_style": "",
      "children": [
       "IPY_MODEL_02e7dffc98e74220a265eb9458798b5a",
       "IPY_MODEL_a9e06abe83464a24b21e47a0cb6a0d5a",
       "IPY_MODEL_90fc74bfb8404d618b9729c56f6de939"
      ],
      "layout": "IPY_MODEL_ce3bf61ebd5545ff8d71cf8634108ebc"
     }
    },
    "a9e06abe83464a24b21e47a0cb6a0d5a": {
     "model_module": "@jupyter-widgets/controls",
     "model_module_version": "1.5.0",
     "model_name": "FloatProgressModel",
     "state": {
      "_dom_classes": [],
      "_model_module": "@jupyter-widgets/controls",
      "_model_module_version": "1.5.0",
      "_model_name": "FloatProgressModel",
      "_view_count": null,
      "_view_module": "@jupyter-widgets/controls",
      "_view_module_version": "1.5.0",
      "_view_name": "ProgressView",
      "bar_style": "success",
      "description": "",
      "description_tooltip": null,
      "layout": "IPY_MODEL_b7b14f1230ba44988796cf4aeb662ecb",
      "max": 5148,
      "min": 0,
      "orientation": "horizontal",
      "style": "IPY_MODEL_22767bb99fbf4929adf389568d369ce6",
      "value": 5148
     }
    },
    "b7b14f1230ba44988796cf4aeb662ecb": {
     "model_module": "@jupyter-widgets/base",
     "model_module_version": "1.2.0",
     "model_name": "LayoutModel",
     "state": {
      "_model_module": "@jupyter-widgets/base",
      "_model_module_version": "1.2.0",
      "_model_name": "LayoutModel",
      "_view_count": null,
      "_view_module": "@jupyter-widgets/base",
      "_view_module_version": "1.2.0",
      "_view_name": "LayoutView",
      "align_content": null,
      "align_items": null,
      "align_self": null,
      "border": null,
      "bottom": null,
      "display": null,
      "flex": null,
      "flex_flow": null,
      "grid_area": null,
      "grid_auto_columns": null,
      "grid_auto_flow": null,
      "grid_auto_rows": null,
      "grid_column": null,
      "grid_gap": null,
      "grid_row": null,
      "grid_template_areas": null,
      "grid_template_columns": null,
      "grid_template_rows": null,
      "height": null,
      "justify_content": null,
      "justify_items": null,
      "left": null,
      "margin": null,
      "max_height": null,
      "max_width": null,
      "min_height": null,
      "min_width": null,
      "object_fit": null,
      "object_position": null,
      "order": null,
      "overflow": null,
      "overflow_x": null,
      "overflow_y": null,
      "padding": null,
      "right": null,
      "top": null,
      "visibility": null,
      "width": null
     }
    },
    "ce3bf61ebd5545ff8d71cf8634108ebc": {
     "model_module": "@jupyter-widgets/base",
     "model_module_version": "1.2.0",
     "model_name": "LayoutModel",
     "state": {
      "_model_module": "@jupyter-widgets/base",
      "_model_module_version": "1.2.0",
      "_model_name": "LayoutModel",
      "_view_count": null,
      "_view_module": "@jupyter-widgets/base",
      "_view_module_version": "1.2.0",
      "_view_name": "LayoutView",
      "align_content": null,
      "align_items": null,
      "align_self": null,
      "border": null,
      "bottom": null,
      "display": null,
      "flex": null,
      "flex_flow": null,
      "grid_area": null,
      "grid_auto_columns": null,
      "grid_auto_flow": null,
      "grid_auto_rows": null,
      "grid_column": null,
      "grid_gap": null,
      "grid_row": null,
      "grid_template_areas": null,
      "grid_template_columns": null,
      "grid_template_rows": null,
      "height": null,
      "justify_content": null,
      "justify_items": null,
      "left": null,
      "margin": null,
      "max_height": null,
      "max_width": null,
      "min_height": null,
      "min_width": null,
      "object_fit": null,
      "object_position": null,
      "order": null,
      "overflow": null,
      "overflow_x": null,
      "overflow_y": null,
      "padding": null,
      "right": null,
      "top": null,
      "visibility": null,
      "width": null
     }
    },
    "f80229b4eb2c48fb9fd68ea8e46e5af8": {
     "model_module": "@jupyter-widgets/base",
     "model_module_version": "1.2.0",
     "model_name": "LayoutModel",
     "state": {
      "_model_module": "@jupyter-widgets/base",
      "_model_module_version": "1.2.0",
      "_model_name": "LayoutModel",
      "_view_count": null,
      "_view_module": "@jupyter-widgets/base",
      "_view_module_version": "1.2.0",
      "_view_name": "LayoutView",
      "align_content": null,
      "align_items": null,
      "align_self": null,
      "border": null,
      "bottom": null,
      "display": null,
      "flex": null,
      "flex_flow": null,
      "grid_area": null,
      "grid_auto_columns": null,
      "grid_auto_flow": null,
      "grid_auto_rows": null,
      "grid_column": null,
      "grid_gap": null,
      "grid_row": null,
      "grid_template_areas": null,
      "grid_template_columns": null,
      "grid_template_rows": null,
      "height": null,
      "justify_content": null,
      "justify_items": null,
      "left": null,
      "margin": null,
      "max_height": null,
      "max_width": null,
      "min_height": null,
      "min_width": null,
      "object_fit": null,
      "object_position": null,
      "order": null,
      "overflow": null,
      "overflow_x": null,
      "overflow_y": null,
      "padding": null,
      "right": null,
      "top": null,
      "visibility": null,
      "width": null
     }
    }
   }
  }
 },
 "nbformat": 4,
 "nbformat_minor": 1
}
