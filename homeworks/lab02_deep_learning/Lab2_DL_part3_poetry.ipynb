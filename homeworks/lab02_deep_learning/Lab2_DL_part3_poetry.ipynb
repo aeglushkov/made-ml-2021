{
 "cells": [
  {
   "cell_type": "markdown",
   "metadata": {},
   "source": [
    "## Lab 2"
   ]
  },
  {
   "cell_type": "markdown",
   "metadata": {},
   "source": [
    "### Part 3. Poetry generation\n",
    "\n",
    "Let's try to generate some poetry using RNNs. \n",
    "\n",
    "You have several choices here: \n",
    "\n",
    "* The Shakespeare sonnets, file `sonnets.txt` available in the notebook directory.\n",
    "\n",
    "* Роман в стихах \"Евгений Онегин\" Александра Сергеевича Пушкина. В предобработанном виде доступен по [ссылке](https://github.com/attatrol/data_sources/blob/master/onegin.txt).\n",
    "\n",
    "* Some other text source, if it will be approved by the course staff.\n",
    "\n",
    "Text generation can be designed in several steps:\n",
    "    \n",
    "1. Data loading.\n",
    "2. Dictionary generation.\n",
    "3. Data preprocessing.\n",
    "4. Model (neural network) training.\n",
    "5. Text generation (model evaluation).\n"
   ]
  },
  {
   "cell_type": "code",
   "execution_count": 1,
   "metadata": {},
   "outputs": [],
   "source": [
    "import string\n",
    "import os"
   ]
  },
  {
   "cell_type": "markdown",
   "metadata": {},
   "source": [
    "### Data loading: Shakespeare"
   ]
  },
  {
   "cell_type": "markdown",
   "metadata": {},
   "source": [
    "Shakespeare sonnets are awailable at this [link](http://www.gutenberg.org/ebooks/1041?msg=welcome_stranger). In addition, they are stored in the same directory as this notebook (`sonnetes.txt`). Simple preprocessing is already done for you in the next cell: all technical info is dropped."
   ]
  },
  {
   "cell_type": "code",
   "execution_count": 2,
   "metadata": {},
   "outputs": [],
   "source": [
    "if not os.path.exists('sonnets.txt'):\n",
    "    !wget https://raw.githubusercontent.com/girafe-ai/ml-mipt/21f_basic/homeworks_basic/lab02_deep_learning/sonnets.txt\n",
    "\n",
    "with open('sonnets.txt', 'r') as iofile:\n",
    "    text = iofile.readlines()\n",
    "    \n",
    "TEXT_START = 45\n",
    "TEXT_END = -368\n",
    "text = text[TEXT_START : TEXT_END]\n",
    "assert len(text) == 2616"
   ]
  },
  {
   "cell_type": "markdown",
   "metadata": {},
   "source": [
    "In opposite to the in-class practice, this time we want to predict complex text. Let's reduce the complexity of the task and lowercase all the symbols.\n",
    "\n",
    "Now variable `text` is a list of strings. Join all the strings into one and lowercase it."
   ]
  },
  {
   "cell_type": "code",
   "execution_count": 3,
   "metadata": {},
   "outputs": [
    {
     "name": "stdout",
     "output_type": "stream",
     "text": [
      "OK!\n"
     ]
    }
   ],
   "source": [
    "# Join all the strings into one and lowercase it\n",
    "# Put result into variable text.\n",
    "\n",
    "# Your great code here\n",
    "text = ''.join([sent.lower() for sent in text])\n",
    "\n",
    "assert len(text) == 100225, 'Are you sure you have concatenated all the strings?'\n",
    "assert not any([x in set(text) for x in string.ascii_uppercase]), 'Uppercase letters are present'\n",
    "print('OK!')"
   ]
  },
  {
   "cell_type": "markdown",
   "metadata": {},
   "source": [
    "Put all the characters, that you've seen in the text, into variable `tokens`."
   ]
  },
  {
   "cell_type": "code",
   "execution_count": 4,
   "metadata": {},
   "outputs": [
    {
     "name": "stdout",
     "output_type": "stream",
     "text": [
      "Количество токенов: 39\n",
      "[\"  from fairest creatures we desire increase,\\n  that thereby beauty's rose might never die,\\n  but as the riper should by time decease,\\n  his tender heir might bear his memory:\\n  but thou, contracted to thine own bright eyes,\\n  feed'st thy light's flame with self-substantial fuel,\\n  making a famine where abundance lies,\\n  thy self thy foe, to thy sweet self too cruel:\\n  thou that art now the world's fresh ornament,\\n  and only herald to the gaudy spring,\\n  within thine own bud buriest thy content,\\n  and tender churl mak'st waste in niggarding:\\n    pity the world, or else this glutton be,\\n    to eat the world's due, by the grave and thee.|\", \"  when forty winters shall besiege thy brow,\\n  and dig deep trenches in thy beauty's field,\\n  thy youth's proud livery so gazed on now,\\n  will be a tatter'd weed of small worth held:\\n  then being asked, where all thy beauty lies,\\n  where all the treasure of thy lusty days;\\n  to say, within thine own deep sunken eyes,\\n  were an all-eating shame, and thriftless praise.\\n  how much more praise deserv'd thy beauty's use,\\n  if thou couldst answer 'this fair child of mine\\n  shall sum my count, and make my old excuse,'\\n  proving his beauty by succession thine!\\n    this were to be new made when thou art old,\\n    and see thy blood warm when thou feel'st it cold.|\", \"  look in thy glass and tell the face thou viewest\\n  now is the time that face should form another;\\n  whose fresh repair if now thou not renewest,\\n  thou dost beguile the world, unbless some mother.\\n  for where is she so fair whose unear'd womb\\n  disdains the tillage of thy husbandry?\\n  or who is he so fond will be the tomb,\\n  of his self-love to stop posterity?\\n  thou art thy mother's glass and she in thee\\n  calls back the lovely april of her prime;\\n  so thou through windows of thine age shalt see,\\n  despite of wrinkles this thy golden time.\\n    but if thou live, remember'd not to be,\\n    die single and thine image dies with thee.|\"]\n"
     ]
    }
   ],
   "source": [
    "text = [part + \"|\" for part in text.split('\\n\\n')[::2]]\n",
    "\n",
    "tokens = sorted(set(''.join(text)))\n",
    "print(\"Количество токенов:\", len(tokens))\n",
    "print(text[:3])"
   ]
  },
  {
   "cell_type": "markdown",
   "metadata": {},
   "source": [
    "Create dictionary `token_to_idx = {<char>: <index>}` and dictionary `idx_to_token = {<index>: <char>}`"
   ]
  },
  {
   "cell_type": "code",
   "execution_count": 5,
   "metadata": {},
   "outputs": [],
   "source": [
    "# dict <index>:<char>\n",
    "# Your great code here\n",
    "idx_to_token = {idx: token for idx, token in enumerate(tokens)}\n",
    "# dict <char>:<index>\n",
    "# Your great code here\n",
    "token_to_idx = {value: key for key, value in idx_to_token.items()}"
   ]
  },
  {
   "cell_type": "markdown",
   "metadata": {},
   "source": [
    "*Comment: in this task we have only 38 different tokens, so let's use one-hot encoding.*"
   ]
  },
  {
   "cell_type": "markdown",
   "metadata": {},
   "source": [
    "### Building the model"
   ]
  },
  {
   "cell_type": "markdown",
   "metadata": {},
   "source": [
    "Now we want to build and train recurrent neural net which would be able to something similar to Shakespeare's poetry.\n",
    "\n",
    "Let's use vanilla RNN, similar to the one created during the lesson."
   ]
  },
  {
   "cell_type": "code",
   "execution_count": 6,
   "metadata": {},
   "outputs": [],
   "source": [
    "# Your code here\n",
    "import torch, torch.nn as nn\n",
    "import torch.nn.functional as F\n",
    "from torch.utils.data import Dataset, DataLoader\n",
    "from tqdm import tqdm\n",
    "import numpy as np\n",
    "import matplotlib.pyplot as plt\n",
    "from IPython.display import clear_output"
   ]
  },
  {
   "cell_type": "code",
   "execution_count": 7,
   "metadata": {},
   "outputs": [],
   "source": [
    "class Poems(Dataset):\n",
    "    def __init__(self, poems):\n",
    "        self.poems = poems\n",
    "    \n",
    "    def __len__(self):\n",
    "        return len(self.poems)\n",
    "    \n",
    "    def __getitem__(self, idx):\n",
    "        return self.poems[idx]\n",
    "\n",
    "\n",
    "poems = Poems(text)"
   ]
  },
  {
   "cell_type": "code",
   "execution_count": 8,
   "metadata": {},
   "outputs": [],
   "source": [
    "class CharRNNCell(nn.Module):\n",
    "    def __init__(self, num_tokens, emb_size=64, rnn_num_units=256):\n",
    "        super(self.__class__, self).__init__()\n",
    "        self.num_units = rnn_num_units\n",
    "        \n",
    "        self.emb = nn.Embedding(num_tokens, emb_size)\n",
    "        self.rnn = nn.Linear(emb_size + rnn_num_units, rnn_num_units)\n",
    "        self.hid_to_logits = nn.Linear(rnn_num_units, num_tokens)\n",
    "        \n",
    "    def forward(self, x, h_prev):\n",
    "        x_emb = self.emb(x)\n",
    "        x_and_h = torch.cat([x_emb, h_prev], dim=-1)\n",
    "        h_next = self.rnn(x_and_h)\n",
    "        \n",
    "        next_logits = self.hid_to_logits(h_next)\n",
    "        next_logp = F.log_softmax(next_logits, dim=-1)\n",
    "        return h_next, next_logp\n",
    "\n",
    "    def initial_state(self, batch_size):\n",
    "        \"\"\" return rnn state before it processes first input (aka h0) \"\"\"\n",
    "        return torch.zeros(batch_size, self.num_units, requires_grad=True)\n",
    "    \n",
    "    \n",
    "def rnn_loop(char_rnn, batch_ix, device):\n",
    "    \"\"\"\n",
    "    Computes log P(next_character) for all time-steps in names_ix\n",
    "    :param names_ix: an int32 matrix of shape [batch, time], output of to_matrix(names)\n",
    "    \"\"\"\n",
    "    batch_size, max_length = batch_ix.size()\n",
    "    hid_state = char_rnn.initial_state(batch_size).to(device)\n",
    "    logprobs = []\n",
    "\n",
    "    for x_t in batch_ix.transpose(0, 1):\n",
    "        hid_state, logp_next = char_rnn(x_t, hid_state)\n",
    "        logprobs.append(logp_next)\n",
    "        \n",
    "    return torch.stack(logprobs, dim=1)\n",
    "\n",
    "\n",
    "def to_matrix(sentences, token_to_idx, max_len=None, dtype='int32', batch_first=True):\n",
    "    \"\"\"Casts a list of sentences into rnn-digestable matrix\"\"\"\n",
    "    \n",
    "    pad = token_to_idx[' ']\n",
    "    \n",
    "    max_len = max_len or max(map(len, sentences))\n",
    "    sentences_ix = np.zeros([len(sentences), max_len], dtype) + pad\n",
    "\n",
    "    for i in range(len(sentences)):\n",
    "        line_ix = [token_to_idx[c] for c in sentences[i]]\n",
    "        sentences_ix[i, :len(line_ix)] = line_ix[:max_len]\n",
    "        \n",
    "    if not batch_first:\n",
    "        sentences_ix = np.transpose(sentences_ix)\n",
    "\n",
    "    return sentences_ix"
   ]
  },
  {
   "cell_type": "markdown",
   "metadata": {},
   "source": [
    "Plot the loss function (axis X: number of epochs, axis Y: loss function)."
   ]
  },
  {
   "cell_type": "code",
   "execution_count": 9,
   "metadata": {},
   "outputs": [
    {
     "data": {
      "image/png": "[encoded data removed]",
      "text/plain": [
       "<Figure size 640x480 with 1 Axes>"
      ]
     },
     "metadata": {},
     "output_type": "display_data"
    },
    {
     "name": "stderr",
     "output_type": "stream",
     "text": [
      "training...: 100%|███████████████████████████████████████████████████████████████████| 500/500 [02:06<00:00,  3.94it/s]\n"
     ]
    }
   ],
   "source": [
    "# Your plot code here\n",
    "num_tokens = len(tokens)\n",
    "device = torch.device(\"cuda\") if torch.cuda.is_available() else torch.device(\"cpu\")\n",
    "batch_size = 128\n",
    "epochs = 500\n",
    "char_rnn = CharRNNCell(num_tokens)\n",
    "criterion = nn.NLLLoss()\n",
    "opt = torch.optim.AdamW(char_rnn.parameters())\n",
    "scheduler = torch.optim.lr_scheduler.CosineAnnealingWarmRestarts(\n",
    "    opt, T_0=batch_size*epochs, eta_min=1e-7\n",
    ")\n",
    "char_rnn.train()\n",
    "char_rnn.to(device)\n",
    "history = []\n",
    "poems_dataloader = DataLoader(\n",
    "    poems, batch_size=batch_size, \n",
    "    num_workers=0, shuffle=True, \n",
    "    pin_memory=True, drop_last=True\n",
    ")\n",
    "for epoch in tqdm(range(epochs), total=epochs, desc=\"training...\"):\n",
    "    epoch_history = []\n",
    "    for batch in poems_dataloader:\n",
    "        opt.zero_grad()\n",
    "\n",
    "        batch_ix = to_matrix(batch, token_to_idx, max_len=None)\n",
    "        batch_ix = torch.tensor(batch_ix, dtype=torch.int64).to(device)\n",
    "\n",
    "        logp_seq = rnn_loop(char_rnn, batch_ix, device)\n",
    "\n",
    "        # compute loss\n",
    "        predictions_logp = logp_seq[:, :-1]\n",
    "        actual_next_tokens = batch_ix[:, 1:]\n",
    "\n",
    "        loss = criterion(predictions_logp.contiguous().view(-1, num_tokens), \n",
    "                         actual_next_tokens.contiguous().view(-1))\n",
    "\n",
    "        loss.backward()\n",
    "        opt.step()\n",
    "        scheduler.step()\n",
    "\n",
    "        epoch_history.append(loss.cpu().data.numpy())\n",
    "\n",
    "    history.append(np.mean(epoch_history))\n",
    "\n",
    "    if (epoch + 1) % 10 == 0:        \n",
    "        clear_output(True)\n",
    "        plt.plot(history, label='loss')\n",
    "        plt.legend()\n",
    "        plt.xlabel(\"number of epochs\")\n",
    "        plt.ylabel(\"loss\")\n",
    "        plt.show()"
   ]
  },
  {
   "cell_type": "code",
   "execution_count": 10,
   "metadata": {},
   "outputs": [],
   "source": [
    "def generate_sample(model, seed_phrase=' a', max_length=300, temperature=1.0):\n",
    "    '''\n",
    "    ### Disclaimer: this is an example function for text generation.\n",
    "    ### You can either adapt it in your code or create your own function\n",
    "    \n",
    "    The function generates text given a phrase of length at least SEQ_LENGTH.\n",
    "    :param seed_phrase: prefix characters. The RNN is asked to continue the phrase\n",
    "    :param max_length: maximum output length, including seed_phrase\n",
    "    :param temperature: coefficient for sampling.  higher temperature produces more chaotic outputs, \n",
    "        smaller temperature converges to the single most likely output.\n",
    "        \n",
    "    Be careful with the model output. This model waits logits (not probabilities/log-probabilities)\n",
    "    of the next symbol.\n",
    "    '''\n",
    "    \n",
    "    x_sequence = [token_to_idx[token] for token in seed_phrase]\n",
    "    x_sequence = torch.tensor([x_sequence], dtype=torch.int64)\n",
    "    hid_state = model.initial_state(batch_size=1)\n",
    "    \n",
    "    for i in range(len(seed_phrase) - 1):\n",
    "        hid_state, out = model(x_sequence[:, i], hid_state)\n",
    "    \n",
    "    #start generating\n",
    "    for _ in range(max_length - len(seed_phrase)):\n",
    "        hid_state, out = model(x_sequence[:, -1], hid_state)\n",
    "        p_next = F.softmax(out / temperature, dim=-1).data.numpy()[0]\n",
    "        \n",
    "        # sample next token and push it back into x_sequence\n",
    "        next_ix = np.random.choice(len(tokens), p=p_next)\n",
    "        next_ix = torch.tensor([[next_ix]], dtype=torch.int64)\n",
    "        x_sequence = torch.cat([x_sequence, next_ix], dim=1)\n",
    "    \n",
    "    return ''.join([idx_to_token[ix] for ix in x_sequence.data.numpy()[0]])"
   ]
  },
  {
   "cell_type": "code",
   "execution_count": 11,
   "metadata": {},
   "outputs": [
    {
     "name": "stdout",
     "output_type": "stream",
     "text": [
      "temperature = 0.1\n",
      " ay ulis, no f o thaney choud did dimt hy blirg, me bed tonter ary sonking;\n",
      "  terustrey,\n",
      "  he  sall ge t s tid  xo  on teou wat d tha   lo me ti   an to n  whrt smy hou t on me the gr pury seave  to me thi g aken  ou t no co mt he oo!  ayot  nong ti h beacristoflo whis lame\n",
      "  hardill ofros doverthes\n",
      "------------------------------\n",
      "temperature = 0.2\n",
      " ank\n",
      "  whestifat weruco ha ind;\n",
      "  for chaldect ling ind sape destot hy, art tr meld ghatr o m free bed tor hy sould lfaknet on  inve gh arey, ame dor alive 's par ee bor ais shich migs ace.\n",
      "   ti e s  leve wly s ar with  hag twere tot pyot are hisesuptou'd,\n",
      "  thee ceake thot bleit buiglorsacquitatty\n",
      "------------------------------\n",
      "temperature = 0.5\n",
      " arusand t'd;\n",
      "  whthecendost frime?\n",
      "  ay chares shas borushathyofllith.\n",
      "  shrpeneree arthy?\n",
      "  this tore,\n",
      "  w il beaneystow thered, io tonatendisule bart.\n",
      "  thot homese of owe-cand\n",
      "  ayf-cr tif tren\n",
      "  ambeene, so teerspos;\n",
      "  and the pare be uly gave, so thee se co ne jure's fall t oue,\n",
      "  d stere wirv\n",
      "------------------------------\n",
      "temperature = 1.0\n",
      " ay sang bnin   parly my por methick:\n",
      "   at thall an  of my d  hit tr tho  fa the t  he  th     up e    o  h ce d  t  w  h   o t   o    o   a                   w                                    vi        i                                                                                            \n",
      "------------------------------\n",
      "temperature = 2.0\n",
      " aid, ondetres, poris sien os rewe, why hy wrees beatsincr pasingutl graverithenelorkend mbee\n",
      "  thebeavust ry frirk'ss oro my crmads'd pattruceeichaspathid fome:\n",
      "  thin sestrain thaurt buth shat withe;\n",
      "  boonty t glowh theave's nouth,\n",
      "  fall they lour in ef ran st m sem, be un ine for, ingres ro gha\n",
      "------------------------------\n"
     ]
    }
   ],
   "source": [
    "char_rnn.eval()\n",
    "char_rnn.to(\"cpu\")\n",
    "temperature_params = [0.1, 0.2, 0.5, 1.0, 2.0]\n",
    "for temperature in temperature_params:\n",
    "    print(f\"temperature = {temperature}\")\n",
    "    print(generate_sample(char_rnn, temperature=1.0))\n",
    "    print(\"-\" * 30)"
   ]
  },
  {
   "cell_type": "markdown",
   "metadata": {},
   "source": [
    "### More poetic model\n",
    "\n",
    "Let's use LSTM instead of vanilla RNN and compare the results."
   ]
  },
  {
   "cell_type": "markdown",
   "metadata": {},
   "source": [
    "Plot the loss function of the number of epochs. Does the final loss become better?"
   ]
  },
  {
   "cell_type": "code",
   "execution_count": 12,
   "metadata": {},
   "outputs": [],
   "source": [
    "# Your beautiful code here\n",
    "class LSTM(nn.Module):\n",
    "    def __init__(\n",
    "        self, \n",
    "        num_tokens, \n",
    "        emb_size=64, \n",
    "        rnn_num_units=256, \n",
    "        n_layers=1\n",
    "    ):\n",
    "        super(self.__class__, self).__init__()\n",
    "        self.num_units = rnn_num_units\n",
    "        self.n_layers = n_layers\n",
    "        \n",
    "        self.emb = nn.Embedding(num_tokens, emb_size)\n",
    "        self.lstm = nn.LSTM(emb_size, rnn_num_units, n_layers, batch_first=True)\n",
    "        self.hid_to_logits = nn.Linear(rnn_num_units, num_tokens)\n",
    "        \n",
    "    def forward(self, x, hidden):\n",
    "        x_emb = self.emb(x)\n",
    "        out, hidden = self.lstm(x_emb, hidden)\n",
    "        next_logits = self.hid_to_logits(out)\n",
    "        next_logp = F.log_softmax(next_logits, dim=-1)\n",
    "        return next_logp, hidden\n",
    "    \n",
    "    def initial_state(self, batch_size=1, device=\"cpu\"):\n",
    "        \"\"\" return rnn state before it processes first input (aka h0) \"\"\"\n",
    "        return (torch.zeros(self.n_layers, batch_size, self.num_units, requires_grad=True).to(device),\n",
    "                torch.zeros(self.n_layers, batch_size, self.num_units, requires_grad=True).to(device))"
   ]
  },
  {
   "cell_type": "code",
   "execution_count": 13,
   "metadata": {},
   "outputs": [
    {
     "data": {
      "image/png": "[encoded data removed]",
      "text/plain": [
       "<Figure size 640x480 with 1 Axes>"
      ]
     },
     "metadata": {},
     "output_type": "display_data"
    },
    {
     "name": "stderr",
     "output_type": "stream",
     "text": [
      "training...: 100%|█████████████████████████████████████████████████████████████████| 1500/1500 [09:11<00:00,  2.72it/s]\n"
     ]
    }
   ],
   "source": [
    "batch_size = 128\n",
    "epochs = 1500\n",
    "lstm_model = LSTM(num_tokens, n_layers=2)\n",
    "lstm_model.train()\n",
    "lstm_model.to(device)\n",
    "criterion = nn.NLLLoss()\n",
    "opt = torch.optim.AdamW(lstm_model.parameters())\n",
    "scheduler = torch.optim.lr_scheduler.CosineAnnealingWarmRestarts(\n",
    "    opt, T_0=batch_size*epochs, eta_min=1e-7\n",
    ")\n",
    "poems_dataloader = DataLoader(\n",
    "    poems, batch_size=batch_size, \n",
    "    num_workers=0, shuffle=True, \n",
    "    pin_memory=True, drop_last=True\n",
    ")\n",
    "history = []\n",
    "for epoch in tqdm(range(epochs), total=epochs, desc=\"training...\"):\n",
    "    epoch_history = []\n",
    "    for batch in poems_dataloader:\n",
    "        opt.zero_grad()\n",
    "\n",
    "        batch_ix = to_matrix(batch, token_to_idx, max_len=None)\n",
    "        batch_ix = torch.tensor(batch_ix, dtype=torch.long).to(device)\n",
    "        hidden = lstm_model.initial_state(batch_size, device)\n",
    "\n",
    "        logp_seq, hidden = lstm_model(batch_ix, hidden)\n",
    "        # compute loss\n",
    "        loss = criterion(logp_seq[:, :-1].cpu().contiguous().view(-1, num_tokens), \n",
    "                         batch_ix[:, 1:].cpu().contiguous().view(-1))\n",
    "        # train with backprop\n",
    "        loss.backward()\n",
    "        opt.step()\n",
    "        scheduler.step()\n",
    "\n",
    "        epoch_history.append(loss.data.numpy())\n",
    "\n",
    "    history.append(np.mean(epoch_history))\n",
    "\n",
    "    if (epoch + 1) % 10 == 0:        \n",
    "        clear_output(True)\n",
    "        plt.plot(history, label='loss')\n",
    "        plt.legend()\n",
    "        plt.xlabel(\"number of epochs\")\n",
    "        plt.ylabel(\"loss\")\n",
    "        plt.show()"
   ]
  },
  {
   "cell_type": "markdown",
   "metadata": {},
   "source": [
    "Generate text using the trained net with different `temperature` parameter: `[0.1, 0.2, 0.5, 1.0, 2.0]`.\n",
    "\n",
    "Evaluate the results visually, try to interpret them."
   ]
  },
  {
   "cell_type": "code",
   "execution_count": 14,
   "metadata": {},
   "outputs": [],
   "source": [
    "# Text generation with different temperature values here\n",
    "def generate_sample_lstm(model, seed_phrase=' a', max_length=300, temperature=1.0):\n",
    "    x_sequence = [token_to_idx[token] for token in seed_phrase]\n",
    "    x_sequence = torch.tensor([x_sequence], dtype=torch.int64)\n",
    "    hidden = model.initial_state(1, \"cpu\")\n",
    "    \n",
    "    #feed the seed phrase, if any\n",
    "    for i in range(len(seed_phrase) - 1):\n",
    "        out, hidden = model(x_sequence[:, i][None], hidden)\n",
    "    \n",
    "    #start generating\n",
    "    for _ in range(max_length - len(seed_phrase)):\n",
    "        out, hidden = model(x_sequence[:, -1][None], hidden)\n",
    "        # Be really careful here with the model output\n",
    "        p_next = F.softmax(out[0] / temperature, dim=-1).data.numpy()[0]\n",
    "        \n",
    "        # sample next token and push it back into x_sequence\n",
    "        next_ix = np.random.choice(len(tokens), p=p_next)\n",
    "        next_ix = torch.tensor([[next_ix]], dtype=torch.int64)\n",
    "        x_sequence = torch.cat([x_sequence, next_ix], dim=1)\n",
    "    \n",
    "    return ''.join([idx_to_token[ix] for ix in x_sequence.data.numpy()[0]])"
   ]
  },
  {
   "cell_type": "code",
   "execution_count": 15,
   "metadata": {},
   "outputs": [
    {
     "name": "stdout",
     "output_type": "stream",
     "text": [
      "temperature = 0.1\n",
      " antherees, i make to skill,\n",
      "  that thou basken, of no merithon ont.\n",
      "  he laighs then theie, and summer's form thee;\n",
      "    and see thy boy mades best endow'd witho\n",
      " -tratifle hath his chorn as might,\n",
      "    and speak of enlot o'er inforly i'ply time,\n",
      "  the pupish groan, and end user basessed\n",
      "  to be thei\n",
      "------------------------------\n",
      "temperature = 0.2\n",
      " ah was swerplovers days bearly hold,\n",
      "  nor are by thy mindness no better moak?\n",
      "  o me shadow fried, and thought thee bright rochen,\n",
      "  for let the dear still wi do but joy mysel,\n",
      "  under that born for his guening no shame forse\n",
      "  that due may me lives be two dearer\n",
      "  and you your sad meary, be griev\n",
      "------------------------------\n",
      "temperature = 0.5\n",
      " antherees, in me away,\n",
      "    i telling merk to the beauty stone,\n",
      "  and ploud do i be dateleingn age;\n",
      "  in old me to finge thy poor drudge;\n",
      "  thou betdem mine eyes, and even i for dely.\n",
      "    you shall lies were but sweeting come, do rone?|                                                                \n",
      "------------------------------\n",
      "temperature = 1.0\n",
      " antherees, if thy wiry grown--wit,\n",
      "  baight far his mude, and more to see the criaute?\n",
      "  thy beace; thee it as day, my love alone:\n",
      "  but these spring dotate nothing tongue:\n",
      "  o! learnful thy sweet asser-donime\n",
      "  as dost to my self a most decosseds\n",
      "  savim those, from her to moter fill\n",
      "  thy old tru\n",
      "------------------------------\n",
      "temperature = 2.0\n",
      " an where imand thy deceaves eye,\n",
      "  use two all their barrer of thoughts will,\n",
      "  thouno ten mine own nemer'd womban the world day,\n",
      "  and barter things inop thy hung? light lace,\n",
      "  and from thy freek as wealth, so its inty,\n",
      "  in friend dis is yout be concent kept,\n",
      "  have fresh brow oft walls i, besel\n",
      "------------------------------\n"
     ]
    }
   ],
   "source": [
    "lstm_model.eval()\n",
    "lstm_model.to(\"cpu\")\n",
    "temperature_params = [0.1, 0.2, 0.5, 1.0, 2.0]\n",
    "for temperature in temperature_params:\n",
    "    print(f\"temperature = {temperature}\")\n",
    "    print(generate_sample_lstm(lstm_model, temperature=1.0))\n",
    "    print(\"-\" * 30)"
   ]
  },
  {
   "cell_type": "markdown",
   "metadata": {},
   "source": [
    "### Saving and loading models"
   ]
  },
  {
   "cell_type": "markdown",
   "metadata": {},
   "source": [
    "Save the model to the disk, then load it and generate text. Examples are available [here](https://pytorch.org/tutorials/beginner/saving_loading_models.html])."
   ]
  },
  {
   "cell_type": "code",
   "execution_count": 16,
   "metadata": {},
   "outputs": [
    {
     "data": {
      "text/plain": [
       "<All keys matched successfully>"
      ]
     },
     "execution_count": 16,
     "metadata": {},
     "output_type": "execute_result"
    }
   ],
   "source": [
    "# Saving and loading code here\n",
    "torch.save(lstm_model.state_dict(), 'LSTM_model.pt')\n",
    "lstm_model.load_state_dict(torch.load('LSTM_model.pt'))"
   ]
  },
  {
   "cell_type": "code",
   "execution_count": 17,
   "metadata": {},
   "outputs": [
    {
     "name": "stdout",
     "output_type": "stream",
     "text": [
      "temperature = 0.1\n",
      "  their poor rich pretty drong of thy weel;\n",
      "  so shall those blessed far frew amindars\n",
      "  where all heaven, your fool or times dit?\n",
      "  the pen unnot bes, by tell deef in sind,\n",
      "    learing eye's the charare; after loys' weri\n",
      "  healt merit in my name's rich'd night,\n",
      "    and to this perjur'd not to heal \n",
      "------------------------------\n",
      "temperature = 0.2\n",
      "  those lips that do both for a liques head\n",
      "  which have now her woind this sourys to brhen,\n",
      "  far yet tongue:\n",
      "  i may by grains and of his pent,\n",
      "  doth charge ther mort anaple of all thoughts,\n",
      "  and pearfrain in her day with thee reneant.\n",
      "  tise's tells my obow faith win doth lies that i call\n",
      "    s\n",
      "------------------------------\n",
      "temperature = 0.5\n",
      "  as a decrepy th seem-re nother stole\n",
      "  to true here and cheekenes he tome born make,\n",
      "  his ill vecance shall rie vight you hells,\n",
      "  whilst may pelair, when how one coold-natel's,\n",
      "  you's check me hour monant swounden's force lived,\n",
      "  and tonguit'd fortune's wate our summer's decay;\n",
      "    this huse t\n",
      "------------------------------\n",
      "temperature = 1.0\n",
      "  as fast as thou shalt wane, so fast thou grow'st,\n",
      "  in one of thine, from that which his son summer,\n",
      "  and such writy like bad and nothing speek,\n",
      "  the each that eye who hourdy's fiercel thee,\n",
      "    that beauty still may:   in there i praise thee one stone,\n",
      "  that mar'st tises for witen as find the \n",
      "------------------------------\n",
      "temperature = 2.0\n",
      "  o! curing an the backhens his of hel is,\n",
      "  if that full war i shourden of melons,\n",
      "  by nature's the there; withee in thy inure, had\n",
      "    by nothing pity doth come shaken tineed.\n",
      "  thus in my love can my thunge cheirsh,\n",
      "  making by minds  then in love, which looks,\n",
      "  for thy self to aker small to-dr\n",
      "------------------------------\n"
     ]
    }
   ],
   "source": [
    "lstm_model.eval()\n",
    "lstm_model.to(\"cpu\")\n",
    "temperature_params = [0.1, 0.2, 0.5, 1.0, 2.0]\n",
    "for temperature in temperature_params:\n",
    "    print(f\"temperature = {temperature}\")\n",
    "    print(generate_sample_lstm(lstm_model, seed_phrase=' ', temperature=1.0))\n",
    "    print(\"-\" * 30)"
   ]
  },
  {
   "cell_type": "markdown",
   "metadata": {},
   "source": [
    "Vanilla RNN показала себя не очень. Я думаю это из-за того, что я использовал довольно длинные отрывки в качестве одного элемента батча, и из-за проблем с затухающим градиентом модель плохо справляется с данной задачей. Сгенерированный текст не напоминает даже обычную речь, не говоря о поэзии, хотя среди сгенерированного текста можно заметить знакомые слова.  \n",
    "Используя LSTM удалось уменьшить loss примерно на 1.5. Сгенерированный текст уже похож на обычную речь (встречается довольно много английских слов, которые можно перевести), но лишен какого-либо смысла. Лучший (на мой взгляд) отрывок, который удалось сгенерировать: \n",
    "```\n",
    "  ages are frow to have of thim:  \n",
    "  a men the tongue, and thine orwards to cury,  \n",
    "  and uncantrfacblest soull'd masted praise  \n",
    "  to wang the world my heil when thou alone  \n",
    "  and heavenly heart's recook my self not with  \n",
    "  time humm and mine old tround for depill:  \n",
    "  poorred to nightle pway youth feed weed,  \n",
    "```"
   ]
  },
  {
   "cell_type": "markdown",
   "metadata": {},
   "source": [
    "### References\n",
    "1. <a href='http://karpathy.github.io/2015/05/21/rnn-effectiveness/'> Andrew Karpathy blog post about RNN. </a> \n",
    "There are several examples of genration: Shakespeare texts, Latex formulas, Linux Sourse Code and children names.\n",
    "2. <a href='https://github.com/karpathy/char-rnn'> Repo with char-rnn code </a>\n",
    "3. Cool repo with PyTorch examples: [link](https://github.com/spro/practical-pytorch`)"
   ]
  }
 ],
 "metadata": {
  "anaconda-cloud": {},
  "kernelspec": {
   "display_name": "Python 3",
   "language": "python",
   "name": "python3"
  },
  "language_info": {
   "codemirror_mode": {
    "name": "ipython",
    "version": 3
   },
   "file_extension": ".py",
   "mimetype": "text/x-python",
   "name": "python",
   "nbconvert_exporter": "python",
   "pygments_lexer": "ipython3",
   "version": "3.7.10"
  }
 },
 "nbformat": 4,
 "nbformat_minor": 2
}
